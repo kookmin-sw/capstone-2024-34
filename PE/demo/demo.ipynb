{
 "cells": [
  {
   "cell_type": "code",
   "execution_count": 1,
   "metadata": {},
   "outputs": [],
   "source": [
    "# import module\n",
    "\n",
    "import os\n",
    "import pickle\n",
    "import sys\n",
    "import yara\n",
    "from tqdm import tqdm\n",
    "\n",
    "sys.path.append(\"../GIPS\")\n",
    "from core.feature_extractor import extract_string_lower\n",
    "from main import GIPS\n",
    "\n",
    "sys.path.append(\"../yara\")\n",
    "from gen_yara import genYaraRule"
   ]
  },
  {
   "cell_type": "code",
   "execution_count": 2,
   "metadata": {},
   "outputs": [],
   "source": [
    "# datasets path\n",
    "\n",
    "malware_direc_path = '../datasets/PE_malware/'\n",
    "benign_direc_path = '../datasets/ben/'"
   ]
  },
  {
   "cell_type": "code",
   "execution_count": 3,
   "metadata": {},
   "outputs": [],
   "source": [
    "# datasets file list\n",
    "\n",
    "malware_files = os.listdir(malware_direc_path)\n",
    "malware_files.remove('README.md')\n",
    "with open('../datasets/pkl/benign_md5.pkl', 'rb') as f:\n",
    "    benign_files = pickle.load(f)"
   ]
  },
  {
   "cell_type": "code",
   "execution_count": 4,
   "metadata": {},
   "outputs": [
    {
     "name": "stdout",
     "output_type": "stream",
     "text": [
      "23927 5982 23927 5982\n"
     ]
    }
   ],
   "source": [
    "# split train test\n",
    "\n",
    "train_files = malware_files[: int(len(malware_files) * 0.8)]\n",
    "test_files = malware_files[int(len(malware_files) * 0.8): ]\n",
    "whitelist_files = benign_files[: int(len(benign_files) * 0.8)]\n",
    "benign_files = benign_files[int(len(benign_files) * 0.8): ]\n",
    "\n",
    "print(len(train_files), len(test_files), len(whitelist_files), len(benign_files))"
   ]
  },
  {
   "cell_type": "code",
   "execution_count": 5,
   "metadata": {},
   "outputs": [
    {
     "name": "stderr",
     "output_type": "stream",
     "text": [
      "100%|██████████| 23927/23927 [07:41<00:00, 51.83it/s]"
     ]
    },
    {
     "name": "stdout",
     "output_type": "stream",
     "text": [
      "24033730\n"
     ]
    },
    {
     "name": "stderr",
     "output_type": "stream",
     "text": [
      "\n"
     ]
    }
   ],
   "source": [
    "# make white list\n",
    "\n",
    "whitelist = set()\n",
    "\n",
    "for file in tqdm(whitelist_files):\n",
    "    path = os.path.join(benign_direc_path, file)\n",
    "    res = extract_string_lower(path)\n",
    "    whitelist.update(res)\n",
    "    \n",
    "print(len(whitelist))"
   ]
  },
  {
   "cell_type": "code",
   "execution_count": 6,
   "metadata": {},
   "outputs": [
    {
     "name": "stderr",
     "output_type": "stream",
     "text": [
      "100%|██████████| 23927/23927 [03:54<00:00, 102.02it/s]\n"
     ]
    }
   ],
   "source": [
    "# make train data\n",
    "\n",
    "train = []\n",
    "\n",
    "for file in tqdm(train_files):\n",
    "\tpath = os.path.join(malware_direc_path, file)\n",
    "\tres = extract_string_lower(path)\n",
    "\t\n",
    "\ttmp = []\n",
    "\tfor string in res:\n",
    "\t\tif string not in whitelist:\n",
    "\t\t\ttmp.append(string)\n",
    "\t\t\t\n",
    "\ttrain.append(tmp)"
   ]
  },
  {
   "cell_type": "code",
   "execution_count": 7,
   "metadata": {},
   "outputs": [],
   "source": [
    "# parameters\n",
    "\n",
    "K = 64\n",
    "M = 2 ** 14\n",
    "thetaJ = 0.6\n",
    "window_size = 4\n",
    "vector_size = 512\n",
    "eps = 0.4\n",
    "minpts = 5\n",
    "ngram = 4\n",
    "hh1_size = 15000\n",
    "hh2_size = 15000\n",
    "hh3_size = 5000\n",
    "ratio = 0.4"
   ]
  },
  {
   "cell_type": "code",
   "execution_count": 8,
   "metadata": {},
   "outputs": [
    {
     "name": "stdout",
     "output_type": "stream",
     "text": [
      "data no: 23927\n",
      "make minhashed vector\n"
     ]
    },
    {
     "name": "stderr",
     "output_type": "stream",
     "text": [
      "100%|██████████| 23927/23927 [02:45<00:00, 144.63it/s]\n"
     ]
    },
    {
     "name": "stdout",
     "output_type": "stream",
     "text": [
      "checking big group\n"
     ]
    },
    {
     "name": "stderr",
     "output_type": "stream",
     "text": [
      "100%|██████████| 23927/23927 [02:13<00:00, 179.76it/s]\n"
     ]
    },
    {
     "name": "stdout",
     "output_type": "stream",
     "text": [
      "chunking\n"
     ]
    },
    {
     "name": "stderr",
     "output_type": "stream",
     "text": [
      "100%|██████████| 15634/15634 [00:18<00:00, 832.91it/s]\n"
     ]
    },
    {
     "name": "stdout",
     "output_type": "stream",
     "text": [
      "start DBSCAN\n",
      "end DBSCAN\n",
      "make signature\n"
     ]
    },
    {
     "name": "stderr",
     "output_type": "stream",
     "text": [
      "100%|██████████| 18/18 [00:20<00:00,  1.13s/it]\n"
     ]
    },
    {
     "name": "stdout",
     "output_type": "stream",
     "text": [
      "end signature\n"
     ]
    }
   ],
   "source": [
    "# generate signatures with GIPS\n",
    "\n",
    "cluster_signatures = GIPS(str_feature=train, K=K, M=M, thetaJ=thetaJ, vector_size=vector_size,\n",
    "    eps=eps, minpts=minpts, hh1_size=hh1_size, hh2_size=hh2_size, ratio=ratio\n",
    ")"
   ]
  },
  {
   "cell_type": "code",
   "execution_count": 9,
   "metadata": {},
   "outputs": [
    {
     "name": "stdout",
     "output_type": "stream",
     "text": [
      "13798\n"
     ]
    }
   ],
   "source": [
    "signatures = set()\n",
    "\n",
    "for signature_list in cluster_signatures.values():\n",
    "\t\tfor i in signature_list:\n",
    "\t\t\tsignatures.add(i[0])\n",
    "\n",
    "print(len(signatures))"
   ]
  },
  {
   "cell_type": "code",
   "execution_count": 10,
   "metadata": {},
   "outputs": [],
   "source": [
    "# signature text file\n",
    "\n",
    "sig_list = []\n",
    "sig_counter = ''\n",
    "\n",
    "for i in cluster_signatures.values():\n",
    "    for j in i:\n",
    "    \tsig_list.append(j)\n",
    "sorted(sig_list, key=lambda x: -x[1])\n",
    "\n",
    "for i in sig_list:\n",
    "    sig_counter += i[0] + ', ' + str(i[1]) + '\\n'\n",
    "    \n",
    "f = open('./sig_counter.txt', 'w')\n",
    "f.write(sig_counter)\n",
    "f.close()"
   ]
  },
  {
   "cell_type": "code",
   "execution_count": 11,
   "metadata": {},
   "outputs": [],
   "source": [
    "# make yara rule\n",
    "\n",
    "yara_rule = genYaraRule(signatures)\n",
    "\n",
    "f = open('./demo.yar', 'w')\n",
    "f.write(yara_rule)\n",
    "f.close()"
   ]
  },
  {
   "cell_type": "code",
   "execution_count": 12,
   "metadata": {},
   "outputs": [],
   "source": [
    "rules = yara.compile(filepath='./demo.yar')"
   ]
  },
  {
   "cell_type": "code",
   "execution_count": 13,
   "metadata": {},
   "outputs": [
    {
     "name": "stderr",
     "output_type": "stream",
     "text": [
      "100%|██████████| 5982/5982 [01:09<00:00, 85.48it/s] \n"
     ]
    }
   ],
   "source": [
    "# make test data\n",
    "\n",
    "TP = 0\n",
    "FN = 0\n",
    "TP_file = []\n",
    "yara_file = []\n",
    "detect_condition = 1\n",
    "\n",
    "for file in tqdm(test_files):\n",
    "\t\n",
    "\tpath = os.path.join(malware_direc_path, file)\n",
    "\tres = extract_string_lower(path)\n",
    "\t\n",
    "\tcnt = 0\n",
    "\tyara_test = ''\n",
    "\tfor string in res:\n",
    "\t\tif string not in whitelist:\n",
    "\t\t\tyara_test += string\n",
    "\t\t\tif string in signatures:\n",
    "\t\t\t\tcnt += 1\n",
    "\t\t\t\n",
    "\tif cnt >= detect_condition:\n",
    "\t\tTP += 1\n",
    "\t\tTP_file.append(file)\n",
    "\t\trule = rules.match(data=yara_test)\n",
    "\t\tif rule != []:\n",
    "\t\t\tyara_file.append(file)\n",
    "\telse:\n",
    "\t\tFN += 1"
   ]
  },
  {
   "cell_type": "code",
   "execution_count": 14,
   "metadata": {},
   "outputs": [
    {
     "name": "stdout",
     "output_type": "stream",
     "text": [
      "4694 4685\n"
     ]
    }
   ],
   "source": [
    "print(len(TP_file), len(yara_file))"
   ]
  },
  {
   "cell_type": "code",
   "execution_count": 15,
   "metadata": {},
   "outputs": [],
   "source": [
    "TP_text = ''\n",
    "\n",
    "for file in TP_file:\n",
    "    TP_text += file + '\\n'\n",
    "    \n",
    "f = open('./TP_list.txt', 'w')\n",
    "f.write(TP_text)\n",
    "f.close()"
   ]
  },
  {
   "cell_type": "code",
   "execution_count": 16,
   "metadata": {},
   "outputs": [
    {
     "name": "stderr",
     "output_type": "stream",
     "text": [
      "100%|██████████| 5982/5982 [02:04<00:00, 47.98it/s]\n"
     ]
    }
   ],
   "source": [
    "# make benign data\n",
    "\n",
    "FP = 0\n",
    "TN = 0\n",
    "FP_file = []\n",
    "TN_yara_file = []\n",
    "detect_condition = 1\n",
    "\n",
    "for file in tqdm(benign_files):\n",
    "\t\n",
    "\tpath = os.path.join(benign_direc_path, file)\n",
    "\tres = extract_string_lower(path)\n",
    "\t\n",
    "\tcnt = 0\n",
    "\tyara_test = ''\n",
    "\tfor string in res:\n",
    "\t\tif string not in whitelist:\n",
    "\t\t\tyara_test += string\n",
    "\t\t\tif string in signatures:\n",
    "\t\t\t\tcnt += 1\n",
    "\t\t\t\n",
    "\tif cnt >= detect_condition:\n",
    "\t\tFP += 1\n",
    "\t\tFP_file.append(file)\n",
    "\telse:\n",
    "\t\tTN += 1\n",
    "\t\n",
    "\trule = rules.match(data=yara_test)\n",
    "\tif cnt == 0 and rule == []:\n",
    "\t\tTN_yara_file.append(file)"
   ]
  },
  {
   "cell_type": "code",
   "execution_count": 17,
   "metadata": {},
   "outputs": [
    {
     "name": "stdout",
     "output_type": "stream",
     "text": [
      "69 4853\n"
     ]
    }
   ],
   "source": [
    "print(len(FP_file), len(TN_yara_file))"
   ]
  },
  {
   "cell_type": "code",
   "execution_count": 18,
   "metadata": {},
   "outputs": [],
   "source": [
    "TN_text = ''\n",
    "\n",
    "for file in TN_yara_file:\n",
    "    TN_text += file + '\\n'\n",
    "    \n",
    "f = open('./TN_list.txt', 'w')\n",
    "f.write(TN_text)\n",
    "f.close()"
   ]
  },
  {
   "cell_type": "code",
   "execution_count": 19,
   "metadata": {},
   "outputs": [
    {
     "name": "stdout",
     "output_type": "stream",
     "text": [
      "TP: 4694\tFN: 1288\n",
      "FP: 69\t\tTN: 5913\n",
      "precision: 0.9855, recall: 0.7847\n",
      "f1-score: 0.8737\n"
     ]
    }
   ],
   "source": [
    "print(f'TP: {TP}\\tFN: {FN}')\n",
    "print(f'FP: {FP}\\t\\tTN: {TN}')\n",
    "\n",
    "precision = round(TP / (TP + FP) , 4)\n",
    "recall = round(TP / (TP + FN), 4)\n",
    "\n",
    "print(f'precision: {precision}, recall: {recall}')\n",
    "print('f1-score:', round(2 * (precision * recall) / (precision + recall), 4))"
   ]
  },
  {
   "cell_type": "code",
   "execution_count": 20,
   "metadata": {},
   "outputs": [],
   "source": [
    "clamAV_FN = {'cf5673bec06d5eeb10a8a455a6257640', 'cf92858d59b52667b805ce296d9e0760', 'cfcb10cee93fdfa2fdcd5b3147046ff0', 'd071f6a18f0289b4ee9fc2b047ef59b0', 'd09ade347b9a2ba97128f7559c761940',\n",
    " 'd112d6e3d1840c23a1f45654b6e38a60', 'd259b25341c678774c7864fe4a2a8b00','d2a569e9e237f4acdf59e372a2138690', 'd3b078da3da457f0b486b15482c02540', 'd40a3bf9abee413fe5f5b0f6648aa200',\n",
    " 'd531237c96260d0fb5a7faa30bf56680', 'd55d02e4291684db3fe0b9cc451059c0', 'd591b8df86296f2e340c8190c8ea4430', 'd6016565df6958d767f9e01fbe82f8d0', 'd6186f1c3aaf37629ed86ac466571b10',\n",
    " 'd69638bfc0e4b1fefdc63e8fbfb74a90', 'd70a786451e9030dd18344db00115b70', 'd7377acc36df6bff98eee67bd47aad80', 'd762457c41cc7502fecce7de4797b700', 'd7ea1efcb6ccee4c3f31d4b845980390',\n",
    " 'd82268ac4f2835c4bcc7fae265996790', 'd890be9659118d799c70bdaabc6b5b30', 'd8c68d23e741f3502d83e50f7378b000', 'd941dc6aa113f9850013e673c609c6b0', 'dc352f9af0b29e5007ee3158dc621eb0',\n",
    " 'dd1bd5a3b2088ee7fdd25958ddd1b380', 'dd7ce9275a4faa0558152b183446e090', 'dd93c710f5043f5ab8685ab47f699900', 'deac2f54fee7364f32095bf042be4f50', 'df3a294cf08c89d75aee9c65ddc638c0',\n",
    " 'df5adc62b7e32010936a711fb9ead240', 'e0d59cd368ead491760baabf56d0fd80', 'e11d843e0def883154e9d30ade1101b0', 'e1b1e100055de8bc2ee6030d688b2470', 'e1d782de35060ed43018a1bd30268730',\n",
    " 'e1f5ba4efa73d737987dcd22a0bc0570', 'e3116c40ff1aa2d781a541b2ed0f6710', 'e36a4451d6c6923bb4f85da854da1b80', 'e39db1f57e8fb943651b12e1bd61eba0', 'e3eade8619e29ce5dda2412b081be810',\n",
    " 'e3f09f4c17d8a15885503fdbedc7eda0', 'e44c0d3b4710e6da2959807ae99c3f20', 'e4854e87fe7ce900d9bad6ea564a48b0', 'e4959d69754ce9c89654094dec828230', 'e4d3d5c8677fd2d462e48e053fd2f3c0',\n",
    " 'e4d6bbb7b8b1974a6140e61692ecdf20', 'e5fa5f3a48d11a6cf312d5d51b748e70', 'e61fd9a54e8497db059bb3000ad2d390', 'e63e3fed2ce633e2d2431fe8b2321e50', 'e642d34611da182a342839b320116e30',\n",
    " 'e6f4adfa8fa76a61b421e9e78d2071f5', 'e73caf3bd02b7766b0ba8c5af1e99e30', 'e74e20062f162470d4aec8be42548b80', 'e82b7f1b14979e2d09149a5835b23bc0', 'e8e6048ea71dd68046976ff24aa9d970',\n",
    " 'e9209c42907a881db1dc1b74e9e21af0', 'e997ed1153de42dd77f57d088713ced0', 'ea414e647f5caf9ba463d1a808d60f50', 'ea532fc7137c6faa4e5e766df224dbe0', 'ea7e5df4d5a772a9d67ecbc116f03c40',\n",
    " 'eaf54dd6dfc3b7ddac52839d6cbb9a80', 'eb84f65021ec34fbadf21d6908fccfc0', 'ec4dbb27b223a5f1ee9ec723ec948dd0', 'ed58de4d175dbcbd17f563e0f8218db0', 'edef1ab29538412724e288448ef86190',\n",
    " 'ee3af545871f002518201d30f0959980', 'eef449ce734eed14d5df002091451540', 'ef63f49e453abaefb4691783b177d790', 'f0b91cb41e8189fbea584dddc132f3a0', 'f0ca239641f6461c9a0f1f1278a989d0',\n",
    " 'f168ac5e011a37a6a8c26331c0bc61a0', 'f30d04d9438429e221ee292771159a80', 'f390fb2d40fb3894291dd718e4e7b810', 'f3c88d3ed249f9c0721abce841349610', 'f4d5c239805a616eea31c550dc33d270',\n",
    " 'f52fc4525646c1f3d07993058cb16ef0', 'f5473083645b0494af5ca75ff9304e80', 'f5e3e895ca63f1dfb1e81cf770fd996a', 'f5f34887798f3cc47cde731f4c29a590', 'f5fb498a8e3eae3496ac4936e284e940',\n",
    " 'f635e9abc88c55658023d2dc83d97b00', 'f639dcff315a92e147da7dfbe1df08d0', 'f65a5fa1bc2de9da2d008dda014d6610', 'f6936c9a81310e8db843826017539dd0', 'f6bba0a5a59139471846578a600db140',\n",
    " 'f72195da8b5452cfaf53631751213af0', 'f82d2ed9023fe593aaaa1b45527760e0', 'f83bcf49fada09b9b413f1892c4860d0', 'f8917f74c2fff9021337657e65a90610', 'f9485befec2f5102ce474b428241d400',\n",
    " 'f9a31c1880dabc544882c89ebac6a210', 'fa513ab1c45dfc342e7da252e3079530', 'fa954ba1640c763332b49a4ccfb939c0', 'facc1b29c250b25ff47fbc1986b3af60', 'fb51885e75a06ed962d1988dc300a4c0',\n",
    " 'fc74b2e404dd8d422c49aabbab7c6470', 'fd1c83285731b6a7a88e50a550f928b0', 'fe92c40f693ab41cb4397706aad30440', 'ff42990903e99e99dd5e7adb6809e8f0', 'ff81ff6b7ef7930be59820348b5236a0'\n",
    "}"
   ]
  },
  {
   "cell_type": "code",
   "execution_count": 21,
   "metadata": {},
   "outputs": [
    {
     "name": "stdout",
     "output_type": "stream",
     "text": [
      "0\n"
     ]
    }
   ],
   "source": [
    "TP_set = set(TP_file)\n",
    "\n",
    "cnt = 0\n",
    "for clamAV in clamAV_FN:\n",
    "    if clamAV not in TP_set:\n",
    "        print(clamAV)\n",
    "        cnt += 1\n",
    "        \n",
    "print(cnt)"
   ]
  },
  {
   "cell_type": "code",
   "execution_count": null,
   "metadata": {},
   "outputs": [],
   "source": []
  }
 ],
 "metadata": {
  "kernelspec": {
   "display_name": "base",
   "language": "python",
   "name": "python3"
  },
  "language_info": {
   "codemirror_mode": {
    "name": "ipython",
    "version": 3
   },
   "file_extension": ".py",
   "mimetype": "text/x-python",
   "name": "python",
   "nbconvert_exporter": "python",
   "pygments_lexer": "ipython3",
   "version": "3.9.18"
  }
 },
 "nbformat": 4,
 "nbformat_minor": 2
}
