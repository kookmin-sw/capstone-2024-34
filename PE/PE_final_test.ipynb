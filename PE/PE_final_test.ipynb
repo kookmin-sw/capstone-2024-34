{
 "cells": [
  {
   "cell_type": "code",
   "execution_count": 3,
   "metadata": {},
   "outputs": [],
   "source": [
    "from GIPS.core.feature_extractor import extract_string_lower\n",
    "import os\n",
    "from tqdm import tqdm\n",
    "import pickle"
   ]
  },
  {
   "cell_type": "code",
   "execution_count": 4,
   "metadata": {},
   "outputs": [],
   "source": [
    "import sys\n",
    "sys.path.append(\"GIPS\")\n",
    "\n",
    "from core.MV2 import MV2\n",
    "from core.JIG import JIG\n",
    "from core.SG2 import SG2\n",
    "\n",
    "def GIPS(str_feature,\n",
    "\t\t window_size, K, M, # MV2 파라미터\n",
    "\t\t thetaJ,  # JIG 파라미터\n",
    "\t\t vector_size, eps, minpts, ngram, hh1_size, hh2_size, hh3_size, ratio # SG2, AWL 파라미터\n",
    "\t\t):\n",
    "\n",
    "\tprint(f'data no: {len(str_feature)}')\n",
    "\n",
    "\tstr_feature = list(str_feature)\n",
    "\tfor feature in str_feature:\n",
    "\t\tfeature = list(feature)\n",
    "\n",
    "\t# 빅 그룹 식별\n",
    "\tminhashed_virtual_vectors = MV2(payloads=str_feature, K=K, M=M)\n",
    "\n",
    "\tbig_group_indices = JIG(vectors=minhashed_virtual_vectors, thetaJ=thetaJ)\n",
    "  \n",
    "\t\n",
    "\tbig_group_payloads = []\n",
    "\tnon_big_group_paylaods = []\n",
    "\n",
    "\tfor idx, payload in enumerate(str_feature):\n",
    "\t\tif idx in big_group_indices:\n",
    "\t\t\tbig_group_payloads.append(payload)\n",
    "\t\telse:\n",
    "\t\t\tnon_big_group_paylaods.append(payload)\n",
    "\t\n",
    "\t# 시그니처 생성\n",
    "\tcluster_signatures = SG2(payloads=big_group_payloads, vector_size=vector_size, \n",
    "\t\t\t\t\t\t\t eps=eps, minpts=minpts, hh1_size=hh1_size, hh2_size=hh2_size, ratio=ratio)\n",
    "\n",
    "\treturn cluster_signatures"
   ]
  },
  {
   "cell_type": "code",
   "execution_count": 5,
   "metadata": {},
   "outputs": [],
   "source": [
    "malware_direc = './datasets/PE_malware/'\n",
    "benign_direc = './datasets/ben/'"
   ]
  },
  {
   "cell_type": "code",
   "execution_count": 6,
   "metadata": {},
   "outputs": [
    {
     "name": "stdout",
     "output_type": "stream",
     "text": [
      "29909 29909\n"
     ]
    }
   ],
   "source": [
    "malware_path = os.listdir(malware_direc)\n",
    "\n",
    "with open('./datasets/pkl/benign_md5.pkl', 'rb') as f:\n",
    "    benign_path = pickle.load(f)\n",
    "\n",
    "\n",
    "malware_path.remove('README.md')\n",
    "\n",
    "print(len(malware_path), len(benign_path))"
   ]
  },
  {
   "cell_type": "code",
   "execution_count": 7,
   "metadata": {},
   "outputs": [
    {
     "name": "stderr",
     "output_type": "stream",
     "text": [
      "100%|██████████| 23927/23927 [07:54<00:00, 50.43it/s] \n"
     ]
    }
   ],
   "source": [
    "benign_strings = [] # 전체 스트링 저장\n",
    "white = [] # train 화이트 리스트\n",
    "benign_test = [] # test benign\n",
    "\n",
    "for path_ in tqdm(benign_path[: int(len(benign_path) * 0.8)]):\n",
    "\tpath = os.path.join(benign_direc, path_)\n",
    "\t\n",
    "\tres = extract_string_lower(path=path)\n",
    "\tbenign_strings.append(res)\n",
    "\twhite.append(res)"
   ]
  },
  {
   "cell_type": "code",
   "execution_count": 8,
   "metadata": {},
   "outputs": [
    {
     "name": "stderr",
     "output_type": "stream",
     "text": [
      "100%|██████████| 23927/23927 [00:09<00:00, 2588.89it/s]"
     ]
    },
    {
     "name": "stdout",
     "output_type": "stream",
     "text": [
      "24033730\n"
     ]
    },
    {
     "name": "stderr",
     "output_type": "stream",
     "text": [
      "\n"
     ]
    }
   ],
   "source": [
    "white_list = set()\n",
    "\n",
    "for inner in tqdm(white):\n",
    "    white_list.update(inner)\n",
    "        \n",
    "print(len(white_list))"
   ]
  },
  {
   "cell_type": "code",
   "execution_count": 9,
   "metadata": {},
   "outputs": [
    {
     "name": "stderr",
     "output_type": "stream",
     "text": [
      "100%|██████████| 23927/23927 [04:13<00:00, 94.21it/s] \n",
      "100%|██████████| 5982/5982 [01:02<00:00, 96.35it/s] \n",
      "100%|██████████| 5982/5982 [02:13<00:00, 44.68it/s]\n"
     ]
    }
   ],
   "source": [
    "malware_strings = [] # 전체 스트링 저장\n",
    "malware_train = [] # train 화이트 리스트\n",
    "malware_test = [] # test malware\n",
    "benign_test = [] # test benign\n",
    "\n",
    "for path_ in tqdm(malware_path[: int(len(malware_path) * 0.8)]):\n",
    "\tpath = os.path.join(malware_direc, path_)\n",
    "\t\n",
    "\tres = extract_string_lower(path=path)\n",
    "\tmalware_strings.append(res)\n",
    "\n",
    "\ttmp = []\n",
    "\tfor string in res:\n",
    "\t\tif string not in white_list:\n",
    "\t\t\ttmp.append(string)\n",
    "\n",
    "\tmalware_train.append(tmp)\n",
    "\n",
    "for path_ in tqdm(malware_path[int(len(malware_path) * 0.8): ]):\n",
    "\tpath = os.path.join(malware_direc, path_)\n",
    "\t\n",
    "\tres = extract_string_lower(path=path)\n",
    "\tmalware_strings.append(res)\n",
    "\n",
    "\ttmp = []\n",
    "\tfor string in res:\n",
    "\t\tif string not in white_list:\n",
    "\t\t\ttmp.append(string)\n",
    "\n",
    "\tmalware_test.append(tmp)\n",
    "\n",
    "for path_ in tqdm(benign_path[int(len(benign_path) * 0.8): ]):\n",
    "\tpath = os.path.join(benign_direc, path_)\n",
    "\t\n",
    "\tres = extract_string_lower(path=path)\n",
    "\tbenign_strings.append(res)\n",
    "\n",
    "\ttmp = []\n",
    "\tfor string in res:\n",
    "\t\tif string not in white_list:\n",
    "\t\t\ttmp.append(string)\n",
    "\n",
    "\tbenign_test.append(tmp)"
   ]
  },
  {
   "cell_type": "code",
   "execution_count": 10,
   "metadata": {},
   "outputs": [
    {
     "name": "stdout",
     "output_type": "stream",
     "text": [
      "29909 29909\n"
     ]
    }
   ],
   "source": [
    "print(len(benign_strings), len(malware_strings))\n",
    "\n",
    "with open('./datasets/pkl/low_benign_string.pkl', 'wb') as f:\n",
    "    pickle.dump(benign_strings, f)\n",
    "    \n",
    "with open('./datasets/pkl/low_malware_string.pkl', 'wb') as f:\n",
    "    pickle.dump(malware_strings, f)"
   ]
  },
  {
   "cell_type": "code",
   "execution_count": 11,
   "metadata": {},
   "outputs": [],
   "source": [
    "# parameters\n",
    "\n",
    "K = 64\n",
    "M = 2 ** 14\n",
    "thetaJ = 0.6\n",
    "window_size = 4\n",
    "vector_size = 512\n",
    "eps = 0.4\n",
    "minpts = 5\n",
    "ngram = 4\n",
    "hh1_size = 5000\n",
    "hh2_size = 5000\n",
    "hh3_size = 5000\n",
    "ratio = 0.8"
   ]
  },
  {
   "cell_type": "code",
   "execution_count": 12,
   "metadata": {},
   "outputs": [
    {
     "name": "stdout",
     "output_type": "stream",
     "text": [
      "data no: 23927\n",
      "make minhashed vector\n"
     ]
    },
    {
     "name": "stderr",
     "output_type": "stream",
     "text": [
      "100%|██████████| 23927/23927 [02:48<00:00, 142.06it/s]\n"
     ]
    },
    {
     "name": "stdout",
     "output_type": "stream",
     "text": [
      "checking big group\n"
     ]
    },
    {
     "name": "stderr",
     "output_type": "stream",
     "text": [
      "100%|██████████| 23927/23927 [02:57<00:00, 134.87it/s]\n"
     ]
    },
    {
     "name": "stdout",
     "output_type": "stream",
     "text": [
      "chunking\n"
     ]
    },
    {
     "name": "stderr",
     "output_type": "stream",
     "text": [
      "100%|██████████| 15634/15634 [00:19<00:00, 789.07it/s]\n"
     ]
    },
    {
     "name": "stdout",
     "output_type": "stream",
     "text": [
      "start DBSCAN\n",
      "end DBSCAN\n",
      "make signature\n"
     ]
    },
    {
     "name": "stderr",
     "output_type": "stream",
     "text": [
      "100%|██████████| 18/18 [00:10<00:00,  1.67it/s]\n"
     ]
    },
    {
     "name": "stdout",
     "output_type": "stream",
     "text": [
      "end signature\n"
     ]
    }
   ],
   "source": [
    "cluster_signatures = GIPS(str_feature=malware_train, window_size=window_size, K=K, M=M, thetaJ=thetaJ, vector_size=vector_size,\n",
    "    eps=eps, minpts=minpts, ngram=ngram, hh1_size=hh1_size, hh2_size=hh2_size, hh3_size=hh3_size, ratio=ratio\n",
    ")"
   ]
  },
  {
   "cell_type": "code",
   "execution_count": 13,
   "metadata": {},
   "outputs": [],
   "source": [
    "signatures = set()\n",
    "exam_sig = []\n",
    "\n",
    "for signature_list in cluster_signatures.values():\n",
    "\tfor i in signature_list:\n",
    "\t\tsignatures.add(i[0])\n",
    "\t\texam_sig.append(i)"
   ]
  },
  {
   "cell_type": "code",
   "execution_count": 14,
   "metadata": {},
   "outputs": [
    {
     "data": {
      "text/plain": [
       "[('rtose*', 1825),\n",
       " ('dae!or', 1825),\n",
       " ('e[e7a6', 1825),\n",
       " ('dm+kx0c@[3', 1825),\n",
       " ('ljt?y9>', 1825)]"
      ]
     },
     "execution_count": 14,
     "metadata": {},
     "output_type": "execute_result"
    }
   ],
   "source": [
    "exam_sig[: 5]"
   ]
  },
  {
   "cell_type": "code",
   "execution_count": 15,
   "metadata": {},
   "outputs": [
    {
     "name": "stdout",
     "output_type": "stream",
     "text": [
      "1674\n"
     ]
    }
   ],
   "source": [
    "print(len(signatures))"
   ]
  },
  {
   "cell_type": "code",
   "execution_count": 16,
   "metadata": {},
   "outputs": [
    {
     "name": "stdout",
     "output_type": "stream",
     "text": [
      "N 1\n",
      "TP: 1786, FN: 4196\n",
      "FP: 5, TN: 5977\n",
      "precision: 0.9972, recall: 0.2986\n",
      "f1-score: 0.4596\n",
      "\n",
      "N 2\n",
      "TP: 1717, FN: 4265\n",
      "FP: 0, TN: 5982\n",
      "precision: 1.0, recall: 0.287\n",
      "f1-score: 0.446\n",
      "\n",
      "N 3\n",
      "TP: 1717, FN: 4265\n",
      "FP: 0, TN: 5982\n",
      "precision: 1.0, recall: 0.287\n",
      "f1-score: 0.446\n",
      "\n",
      "N 4\n",
      "TP: 1690, FN: 4292\n",
      "FP: 0, TN: 5982\n",
      "precision: 1.0, recall: 0.2825\n",
      "f1-score: 0.4405\n",
      "\n",
      "N 5\n",
      "TP: 1642, FN: 4340\n",
      "FP: 0, TN: 5982\n",
      "precision: 1.0, recall: 0.2745\n",
      "f1-score: 0.4308\n",
      "\n",
      "N 6\n",
      "TP: 1641, FN: 4341\n",
      "FP: 0, TN: 5982\n",
      "precision: 1.0, recall: 0.2743\n",
      "f1-score: 0.4305\n",
      "\n",
      "N 7\n",
      "TP: 1640, FN: 4342\n",
      "FP: 0, TN: 5982\n",
      "precision: 1.0, recall: 0.2742\n",
      "f1-score: 0.4304\n",
      "\n",
      "N 8\n",
      "TP: 1640, FN: 4342\n",
      "FP: 0, TN: 5982\n",
      "precision: 1.0, recall: 0.2742\n",
      "f1-score: 0.4304\n",
      "\n",
      "N 9\n",
      "TP: 1616, FN: 4366\n",
      "FP: 0, TN: 5982\n",
      "precision: 1.0, recall: 0.2701\n",
      "f1-score: 0.4253\n",
      "\n",
      "N 10\n",
      "TP: 1616, FN: 4366\n",
      "FP: 0, TN: 5982\n",
      "precision: 1.0, recall: 0.2701\n",
      "f1-score: 0.4253\n",
      "\n",
      "N 11\n",
      "TP: 1616, FN: 4366\n",
      "FP: 0, TN: 5982\n",
      "precision: 1.0, recall: 0.2701\n",
      "f1-score: 0.4253\n",
      "\n",
      "N 12\n",
      "TP: 1616, FN: 4366\n",
      "FP: 0, TN: 5982\n",
      "precision: 1.0, recall: 0.2701\n",
      "f1-score: 0.4253\n",
      "\n",
      "N 13\n",
      "TP: 1615, FN: 4367\n",
      "FP: 0, TN: 5982\n",
      "precision: 1.0, recall: 0.27\n",
      "f1-score: 0.4252\n",
      "\n",
      "N 14\n",
      "TP: 1594, FN: 4388\n",
      "FP: 0, TN: 5982\n",
      "precision: 1.0, recall: 0.2665\n",
      "f1-score: 0.4208\n",
      "\n",
      "N 15\n",
      "TP: 1594, FN: 4388\n",
      "FP: 0, TN: 5982\n",
      "precision: 1.0, recall: 0.2665\n",
      "f1-score: 0.4208\n",
      "\n",
      "N 16\n",
      "TP: 1594, FN: 4388\n",
      "FP: 0, TN: 5982\n",
      "precision: 1.0, recall: 0.2665\n",
      "f1-score: 0.4208\n",
      "\n",
      "N 17\n",
      "TP: 1506, FN: 4476\n",
      "FP: 0, TN: 5982\n",
      "precision: 1.0, recall: 0.2518\n",
      "f1-score: 0.4023\n",
      "\n",
      "N 18\n",
      "TP: 1506, FN: 4476\n",
      "FP: 0, TN: 5982\n",
      "precision: 1.0, recall: 0.2518\n",
      "f1-score: 0.4023\n",
      "\n",
      "N 19\n",
      "TP: 1485, FN: 4497\n",
      "FP: 0, TN: 5982\n",
      "precision: 1.0, recall: 0.2482\n",
      "f1-score: 0.3977\n",
      "\n"
     ]
    }
   ],
   "source": [
    "for i in range(1, 20):\n",
    "\tres = []\n",
    "\tTP = 0\n",
    "\tFP = 0\n",
    "\tTN = 0\n",
    "\tFN = 0\n",
    "\n",
    "\tprint('N', i)\n",
    "\n",
    "\tfor strings in malware_test:\n",
    "\t\tcnt = 0\n",
    "\t\tfor string in strings:\n",
    "\t\t\tif string in signatures:\n",
    "\t\t\t\tcnt += 1\n",
    "\t\tif cnt >= i:\n",
    "\t\t\tTP += 1\n",
    "\t\telse:\n",
    "\t\t\tFN += 1\n",
    "\n",
    "\tfor strings in benign_test:\n",
    "\t\tcnt = 0\n",
    "\t\tfor string in strings:\n",
    "\t\t\tif string in signatures:\n",
    "\t\t\t\tcnt += 1\t\t\n",
    "\t\tif cnt >= i:\n",
    "\t\t\tFP += 1\n",
    "\t\telse:\n",
    "\t\t\tTN += 1\n",
    "\t\t\n",
    "\t# print(sum(benign) / len(benign))\n",
    "\tprint(f'TP: {TP}, FN: {FN}')\n",
    "\tprint(f'FP: {FP}, TN: {TN}')\n",
    "\n",
    "\tprecision = round(TP / (TP + FP) , 4)\n",
    "\trecall = round(TP / (TP + FN), 4)\n",
    "\n",
    "\tprint(f'precision: {precision}, recall: {recall}')\n",
    "\tprint('f1-score:', round(2 * (precision * recall) / (precision + recall), 4))\n",
    "\tprint()"
   ]
  },
  {
   "cell_type": "markdown",
   "metadata": {},
   "source": [
    "# HH 크기 늘리기"
   ]
  },
  {
   "cell_type": "code",
   "execution_count": 17,
   "metadata": {},
   "outputs": [],
   "source": [
    "with open('./datasets/pkl/low_benign_string.pkl', 'rb') as f:\n",
    "    benign_strings = pickle.load(f)\n",
    "    \n",
    "with open('./datasets/pkl/low_malware_string.pkl', 'rb') as f:\n",
    "    malware_strings = pickle.load(f)"
   ]
  },
  {
   "cell_type": "code",
   "execution_count": 18,
   "metadata": {},
   "outputs": [],
   "source": [
    "import random\n",
    "\n",
    "random.Random(42).shuffle(benign_strings)\n",
    "random.Random(42).shuffle(malware_strings)"
   ]
  },
  {
   "cell_type": "code",
   "execution_count": 19,
   "metadata": {},
   "outputs": [
    {
     "name": "stderr",
     "output_type": "stream",
     "text": [
      "100%|██████████| 23927/23927 [00:29<00:00, 816.41it/s] "
     ]
    },
    {
     "name": "stdout",
     "output_type": "stream",
     "text": [
      "23910007\n"
     ]
    },
    {
     "name": "stderr",
     "output_type": "stream",
     "text": [
      "\n"
     ]
    }
   ],
   "source": [
    "white_list = dict()\n",
    "\n",
    "for inner in tqdm(benign_strings[: int(len(benign_strings) * 0.8)]):\n",
    "    for i in inner:\n",
    "        if i not in white_list:\n",
    "            white_list[i] = 0\n",
    "        white_list[i] += 1\n",
    "        \n",
    "print(len(white_list))"
   ]
  },
  {
   "cell_type": "code",
   "execution_count": 20,
   "metadata": {},
   "outputs": [
    {
     "name": "stdout",
     "output_type": "stream",
     "text": [
      "23910007\n"
     ]
    }
   ],
   "source": [
    "whitelist = set([i[0] for i in white_list.items() if i[1] > 0])\n",
    "print(len(whitelist))"
   ]
  },
  {
   "cell_type": "code",
   "execution_count": 21,
   "metadata": {},
   "outputs": [
    {
     "name": "stderr",
     "output_type": "stream",
     "text": [
      "100%|██████████| 23927/23927 [00:20<00:00, 1157.67it/s]\n",
      "100%|██████████| 5982/5982 [00:02<00:00, 2637.94it/s]\n",
      "100%|██████████| 5982/5982 [00:05<00:00, 1132.40it/s]\n"
     ]
    }
   ],
   "source": [
    "malware_train = [] # train 화이트 리스트\n",
    "malware_test = [] # test malware\n",
    "benign_test = []\n",
    "\n",
    "for res in tqdm(malware_strings[: int(len(malware_strings) * 0.8)]):\n",
    "\t\n",
    "\ttmp = []\n",
    "\tfor string in res:\n",
    "\t\tif string not in whitelist:\n",
    "\t\t\ttmp.append(string)\n",
    "\n",
    "\tmalware_train.append(tmp)\n",
    "\n",
    "for res in tqdm(malware_strings[int(len(malware_strings) * 0.8): ]):\n",
    "\n",
    "\ttmp = []\n",
    "\tfor string in res:\n",
    "\t\tif string not in whitelist:\n",
    "\t\t\ttmp.append(string)\n",
    "\n",
    "\tmalware_test.append(tmp)\n",
    "\n",
    "for res in tqdm(benign_strings[int(len(benign_strings) * 0.8): ]):\n",
    "\n",
    "\ttmp = []\n",
    "\tfor string in res:\n",
    "\t\tif string not in whitelist:\n",
    "\t\t\ttmp.append(string)\n",
    "\n",
    "\tbenign_test.append(tmp)"
   ]
  },
  {
   "cell_type": "code",
   "execution_count": 22,
   "metadata": {},
   "outputs": [],
   "source": [
    "# parameters\n",
    "\n",
    "K = 64\n",
    "M = 2 ** 14\n",
    "thetaJ = 0.6\n",
    "window_size = 4\n",
    "vector_size = 512\n",
    "eps = 0.4\n",
    "minpts = 5\n",
    "ngram = 4\n",
    "hh1_size = 15000\n",
    "hh2_size = 15000\n",
    "hh3_size = 5000\n",
    "ratio = 0.4"
   ]
  },
  {
   "cell_type": "code",
   "execution_count": 23,
   "metadata": {},
   "outputs": [
    {
     "name": "stdout",
     "output_type": "stream",
     "text": [
      "data no: 23927\n",
      "make minhashed vector\n"
     ]
    },
    {
     "name": "stderr",
     "output_type": "stream",
     "text": [
      "100%|██████████| 23927/23927 [02:50<00:00, 140.18it/s]\n"
     ]
    },
    {
     "name": "stdout",
     "output_type": "stream",
     "text": [
      "checking big group\n"
     ]
    },
    {
     "name": "stderr",
     "output_type": "stream",
     "text": [
      "100%|██████████| 23927/23927 [02:52<00:00, 138.70it/s]\n"
     ]
    },
    {
     "name": "stdout",
     "output_type": "stream",
     "text": [
      "chunking\n"
     ]
    },
    {
     "name": "stderr",
     "output_type": "stream",
     "text": [
      "100%|██████████| 15659/15659 [00:20<00:00, 772.63it/s]\n"
     ]
    },
    {
     "name": "stdout",
     "output_type": "stream",
     "text": [
      "start DBSCAN\n",
      "end DBSCAN\n",
      "make signature\n"
     ]
    },
    {
     "name": "stderr",
     "output_type": "stream",
     "text": [
      "100%|██████████| 20/20 [00:25<00:00,  1.29s/it]\n"
     ]
    },
    {
     "name": "stdout",
     "output_type": "stream",
     "text": [
      "end signature\n"
     ]
    }
   ],
   "source": [
    "cluster_signatures = GIPS(str_feature=malware_train, window_size=window_size, K=K, M=M, thetaJ=thetaJ, vector_size=vector_size,\n",
    "    eps=eps, minpts=minpts, ngram=ngram, hh1_size=hh1_size, hh2_size=hh2_size, hh3_size=hh3_size, ratio=ratio\n",
    ")"
   ]
  },
  {
   "cell_type": "code",
   "execution_count": 24,
   "metadata": {},
   "outputs": [
    {
     "name": "stdout",
     "output_type": "stream",
     "text": [
      "14898\n"
     ]
    }
   ],
   "source": [
    "signatures = set()\n",
    "exam_sig = []\n",
    "\n",
    "for signature_list in cluster_signatures.values():\n",
    "\tfor i in signature_list:\n",
    "\t\tsignatures.add(i[0])\n",
    "\t\texam_sig.append(i)\n",
    "\n",
    "print(len(signatures))"
   ]
  },
  {
   "cell_type": "code",
   "execution_count": 25,
   "metadata": {},
   "outputs": [
    {
     "data": {
      "text/plain": [
       "[('(yyzzz', 742),\n",
       " ('module_rnd', 742),\n",
       " ('$%12v44)', 742),\n",
       " ('module_check', 742),\n",
       " ('cdefe!gyjjiiijj2mnop', 742)]"
      ]
     },
     "execution_count": 25,
     "metadata": {},
     "output_type": "execute_result"
    }
   ],
   "source": [
    "exam_sig[: 5]"
   ]
  },
  {
   "cell_type": "code",
   "execution_count": 26,
   "metadata": {},
   "outputs": [
    {
     "name": "stdout",
     "output_type": "stream",
     "text": [
      "N 1\n",
      "TP: 4952\tFN: 1030\n",
      "FP: 64\t\tTN: 5918\n",
      "precision: 0.9872, recall: 0.8278\n",
      "f1-score: 0.9005\n",
      "\n",
      "N 2\n",
      "TP: 4877\tFN: 1105\n",
      "FP: 16\t\tTN: 5966\n",
      "precision: 0.9967, recall: 0.8153\n",
      "f1-score: 0.8969\n",
      "\n",
      "N 3\n",
      "TP: 4865\tFN: 1117\n",
      "FP: 6\t\tTN: 5976\n",
      "precision: 0.9988, recall: 0.8133\n",
      "f1-score: 0.8966\n",
      "\n",
      "N 4\n",
      "TP: 4833\tFN: 1149\n",
      "FP: 2\t\tTN: 5980\n",
      "precision: 0.9996, recall: 0.8079\n",
      "f1-score: 0.8936\n",
      "\n",
      "N 5\n",
      "TP: 4754\tFN: 1228\n",
      "FP: 2\t\tTN: 5980\n",
      "precision: 0.9996, recall: 0.7947\n",
      "f1-score: 0.8855\n",
      "\n",
      "N 6\n",
      "TP: 4754\tFN: 1228\n",
      "FP: 2\t\tTN: 5980\n",
      "precision: 0.9996, recall: 0.7947\n",
      "f1-score: 0.8855\n",
      "\n",
      "N 7\n",
      "TP: 4754\tFN: 1228\n",
      "FP: 2\t\tTN: 5980\n",
      "precision: 0.9996, recall: 0.7947\n",
      "f1-score: 0.8855\n",
      "\n",
      "N 8\n",
      "TP: 4754\tFN: 1228\n",
      "FP: 2\t\tTN: 5980\n",
      "precision: 0.9996, recall: 0.7947\n",
      "f1-score: 0.8855\n",
      "\n",
      "N 9\n",
      "TP: 4750\tFN: 1232\n",
      "FP: 2\t\tTN: 5980\n",
      "precision: 0.9996, recall: 0.794\n",
      "f1-score: 0.885\n",
      "\n",
      "N 10\n",
      "TP: 4735\tFN: 1247\n",
      "FP: 2\t\tTN: 5980\n",
      "precision: 0.9996, recall: 0.7915\n",
      "f1-score: 0.8835\n",
      "\n",
      "N 11\n",
      "TP: 4710\tFN: 1272\n",
      "FP: 2\t\tTN: 5980\n",
      "precision: 0.9996, recall: 0.7874\n",
      "f1-score: 0.8809\n",
      "\n",
      "N 12\n",
      "TP: 4675\tFN: 1307\n",
      "FP: 2\t\tTN: 5980\n",
      "precision: 0.9996, recall: 0.7815\n",
      "f1-score: 0.8772\n",
      "\n",
      "N 13\n",
      "TP: 4664\tFN: 1318\n",
      "FP: 2\t\tTN: 5980\n",
      "precision: 0.9996, recall: 0.7797\n",
      "f1-score: 0.8761\n",
      "\n",
      "N 14\n",
      "TP: 4632\tFN: 1350\n",
      "FP: 1\t\tTN: 5981\n",
      "precision: 0.9998, recall: 0.7743\n",
      "f1-score: 0.8727\n",
      "\n",
      "N 15\n",
      "TP: 4632\tFN: 1350\n",
      "FP: 1\t\tTN: 5981\n",
      "precision: 0.9998, recall: 0.7743\n",
      "f1-score: 0.8727\n",
      "\n",
      "N 16\n",
      "TP: 4608\tFN: 1374\n",
      "FP: 1\t\tTN: 5981\n",
      "precision: 0.9998, recall: 0.7703\n",
      "f1-score: 0.8702\n",
      "\n",
      "N 17\n",
      "TP: 4471\tFN: 1511\n",
      "FP: 1\t\tTN: 5981\n",
      "precision: 0.9998, recall: 0.7474\n",
      "f1-score: 0.8554\n",
      "\n",
      "N 18\n",
      "TP: 4469\tFN: 1513\n",
      "FP: 1\t\tTN: 5981\n",
      "precision: 0.9998, recall: 0.7471\n",
      "f1-score: 0.8552\n",
      "\n",
      "N 19\n",
      "TP: 4443\tFN: 1539\n",
      "FP: 1\t\tTN: 5981\n",
      "precision: 0.9998, recall: 0.7427\n",
      "f1-score: 0.8523\n",
      "\n"
     ]
    }
   ],
   "source": [
    "for i in range(1, 20):\n",
    "\tres = []\n",
    "\tTP = 0\n",
    "\tFP = 0\n",
    "\tTN = 0\n",
    "\tFN = 0\n",
    "\n",
    "\tprint('N', i)\n",
    "\n",
    "\tfor strings in malware_test:\n",
    "\t\tcnt = 0\n",
    "\t\tfor string in strings:\n",
    "\t\t\tif string in signatures:\n",
    "\t\t\t\tcnt += 1\n",
    "\t\tif cnt >= i:\n",
    "\t\t\tTP += 1\n",
    "\t\telse:\n",
    "\t\t\tFN += 1\n",
    "\n",
    "\tfor strings in benign_test:\n",
    "\t\tcnt = 0\n",
    "\t\tfor string in strings:\n",
    "\t\t\tif string in signatures:\n",
    "\t\t\t\tcnt += 1\t\t\n",
    "\t\tif cnt >= i:\n",
    "\t\t\tFP += 1\n",
    "\t\telse:\n",
    "\t\t\tTN += 1\n",
    "\t\t\n",
    "\t# print(sum(benign) / len(benign))\n",
    "\tprint(f'TP: {TP}\\tFN: {FN}')\n",
    "\tprint(f'FP: {FP}\\t\\tTN: {TN}')\n",
    "\n",
    "\tprecision = round(TP / (TP + FP) , 4)\n",
    "\trecall = round(TP / (TP + FN), 4)\n",
    "\n",
    "\tprint(f'precision: {precision}, recall: {recall}')\n",
    "\tprint('f1-score:', round(2 * (precision * recall) / (precision + recall), 4))\n",
    "\tprint()"
   ]
  },
  {
   "cell_type": "code",
   "execution_count": 27,
   "metadata": {},
   "outputs": [
    {
     "name": "stderr",
     "output_type": "stream",
     "text": [
      "100%|██████████| 23927/23927 [00:11<00:00, 2114.19it/s]"
     ]
    },
    {
     "name": "stdout",
     "output_type": "stream",
     "text": [
      "7684388\n"
     ]
    },
    {
     "name": "stderr",
     "output_type": "stream",
     "text": [
      "\n"
     ]
    }
   ],
   "source": [
    "dark_list = dict()\n",
    "\n",
    "for inner in tqdm(malware_strings[: int(len(malware_strings) * 0.8)]):\n",
    "    for i in inner:\n",
    "        if i not in dark_list:\n",
    "            dark_list[i] = 0\n",
    "        dark_list[i] += 1\n",
    "        \n",
    "print(len(dark_list))"
   ]
  },
  {
   "cell_type": "code",
   "execution_count": 28,
   "metadata": {},
   "outputs": [
    {
     "name": "stdout",
     "output_type": "stream",
     "text": [
      "6694297\n"
     ]
    }
   ],
   "source": [
    "cnt = 0\n",
    "\n",
    "dark_lists = []\n",
    "\n",
    "for i in sorted([i for i in dark_list.items()], key=lambda x: -x[1]):\n",
    "\tif i[0] not in white_list:\n",
    "\t\tdark_lists.append(i)\n",
    "\n",
    "print(len(dark_lists))"
   ]
  },
  {
   "cell_type": "code",
   "execution_count": 29,
   "metadata": {},
   "outputs": [
    {
     "name": "stdout",
     "output_type": "stream",
     "text": [
      "11488\n",
      "6682809\n"
     ]
    }
   ],
   "source": [
    "cnt = 0\n",
    "\n",
    "nomi_sig = set()\n",
    "\n",
    "threshold = (int(len(malware_strings) * 0.8) * 0.01)\n",
    "\n",
    "for i in dark_lists:\n",
    "    if i[1] > threshold:\n",
    "        nomi_sig.add(i)\n",
    "\n",
    "print(len(nomi_sig))\n",
    "print(len(dark_lists) - len(nomi_sig))"
   ]
  },
  {
   "cell_type": "code",
   "execution_count": 30,
   "metadata": {},
   "outputs": [
    {
     "name": "stderr",
     "output_type": "stream",
     "text": [
      "100%|██████████| 5982/5982 [00:00<00:00, 75574.64it/s]"
     ]
    },
    {
     "name": "stdout",
     "output_type": "stream",
     "text": [
      "5300\n"
     ]
    },
    {
     "name": "stderr",
     "output_type": "stream",
     "text": [
      "\n"
     ]
    }
   ],
   "source": [
    "cnt_200s = set([i[0] for i in nomi_sig])\n",
    "\n",
    "cnt = 0\n",
    "\n",
    "for inner in tqdm(malware_strings[int(len(malware_strings) * 0.8): ]):\n",
    "\tfor i in inner:\n",
    "\t\tif i in cnt_200s:\n",
    "\t\t\tcnt += 1\n",
    "\t\t\tbreak\n",
    "\n",
    "print(cnt)"
   ]
  },
  {
   "cell_type": "code",
   "execution_count": null,
   "metadata": {},
   "outputs": [],
   "source": []
  }
 ],
 "metadata": {
  "kernelspec": {
   "display_name": "base",
   "language": "python",
   "name": "python3"
  },
  "language_info": {
   "codemirror_mode": {
    "name": "ipython",
    "version": 3
   },
   "file_extension": ".py",
   "mimetype": "text/x-python",
   "name": "python",
   "nbconvert_exporter": "python",
   "pygments_lexer": "ipython3",
   "version": "3.9.18"
  }
 },
 "nbformat": 4,
 "nbformat_minor": 2
}
